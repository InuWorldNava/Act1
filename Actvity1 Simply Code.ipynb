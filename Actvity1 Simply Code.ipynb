{
 "cells": [
  {
   "cell_type": "code",
   "execution_count": 2,
   "id": "a9391363-9e8c-48bd-a494-74325e99f5f5",
   "metadata": {},
   "outputs": [
    {
     "name": "stdout",
     "output_type": "stream",
     "text": [
      "---Example---\n",
      "Name: Jessie Christian N. Nava\n",
      "Address: Bocboc East, Aguilar, Pangasinan, 2415\n",
      "College major: 3rd-BSCS-b\n",
      "Motto: The only mystery in life is why the kamikaze pilots wore helmets.\n"
     ]
    }
   ],
   "source": [
    "#number1\n",
    "print('---Example---')\n",
    "print('Name: Jessie Christian N. Nava\\nAddress: Bocboc East, Aguilar, Pangasinan, 2415\\nCollege major: 3rd-BSCS-b\\nMotto: The only mystery in life is why the kamikaze pilots wore helmets.')"
   ]
  },
  {
   "cell_type": "code",
   "execution_count": 5,
   "id": "ac9f7551-700b-4821-8ea2-a2d80b0f3825",
   "metadata": {},
   "outputs": [
    {
     "name": "stdin",
     "output_type": "stream",
     "text": [
      "Name:  jessie christian n.nava\n",
      "Address City Municipality:  bocboc east, aguilar, pangasinan\n",
      "Enter Postal:  2125\n",
      "College Major:  bscs\n",
      "Year:  4yr\n",
      "Section:  b\n",
      "Enter your Motto:  wala\n"
     ]
    },
    {
     "name": "stdout",
     "output_type": "stream",
     "text": [
      "Name: jessie christian n.nava\n",
      "Address: bocboc east, aguilar, pangasinan - 2125\n",
      "College Major: 4yr - bscs - b\n",
      "Motto: wala\n"
     ]
    }
   ],
   "source": [
    "#number1\n",
    "try:\n",
    "    # Gather user information\n",
    "    name = input('Name: ')\n",
    "    address = input('Address City Municipality: ')\n",
    "    # Ensure postal code is an integer\n",
    "    postal = int(input('Enter Postal: '))\n",
    "    collegemajor = input('College Major: ')\n",
    "    year = input('Year: ')\n",
    "    section = input('Section: ')\n",
    "    motto = input('Enter your Motto: ')\n",
    "    # Display the collected information\n",
    "    print('Name:', name)\n",
    "    print('Address:', address, '-', postal)\n",
    "    print('College Major:', year, '-', collegemajor, '-', section)\n",
    "    print('Motto:', motto)\n",
    "except ValueError:\n",
    "    print(\"Invalid input for postal code. Please enter a valid number.\")"
   ]
  },
  {
   "cell_type": "code",
   "execution_count": 6,
   "id": "747c4203-2caa-42d2-b7ac-9f48f9084401",
   "metadata": {},
   "outputs": [
    {
     "name": "stdin",
     "output_type": "stream",
     "text": [
      "Hi! Do you want to preorder? [y/n]:  y\n"
     ]
    },
    {
     "name": "stdout",
     "output_type": "stream",
     "text": [
      "Here are the available products:\n",
      "[0] patatas - 10 pesos\n",
      "[1] potato - 5 pesos\n",
      "[2] eggplant - 6 pesos\n",
      "[3] tomato - 8 pesos\n",
      "[4] onion - 3 pesos\n",
      "[5] carrot - 4 pesos\n",
      "[6] cabbage - 2 pesos\n",
      "[7] lettuce - 7 pesos\n",
      "[8] bell pepper - 5 pesos\n"
     ]
    },
    {
     "name": "stdin",
     "output_type": "stream",
     "text": [
      "Enter the number of the product you want to order:  2\n"
     ]
    },
    {
     "name": "stdout",
     "output_type": "stream",
     "text": [
      "eggplant has been added to your cart!\n"
     ]
    },
    {
     "name": "stdin",
     "output_type": "stream",
     "text": [
      "Do you want to preorder again? [y/n]:  y\n"
     ]
    },
    {
     "name": "stdout",
     "output_type": "stream",
     "text": [
      "Here are the available products:\n",
      "[0] patatas - 10 pesos\n",
      "[1] potato - 5 pesos\n",
      "[2] eggplant - 6 pesos\n",
      "[3] tomato - 8 pesos\n",
      "[4] onion - 3 pesos\n",
      "[5] carrot - 4 pesos\n",
      "[6] cabbage - 2 pesos\n",
      "[7] lettuce - 7 pesos\n",
      "[8] bell pepper - 5 pesos\n"
     ]
    },
    {
     "name": "stdin",
     "output_type": "stream",
     "text": [
      "Enter the number of the product you want to order:  5\n"
     ]
    },
    {
     "name": "stdout",
     "output_type": "stream",
     "text": [
      "carrot has been added to your cart!\n"
     ]
    },
    {
     "name": "stdin",
     "output_type": "stream",
     "text": [
      "Do you want to preorder again? [y/n]:  n\n"
     ]
    },
    {
     "name": "stdout",
     "output_type": "stream",
     "text": [
      "\n",
      "--- Order Summary ---\n",
      "- eggplant\n",
      "- carrot\n",
      "\n",
      "Subtotal: 10.00 pesos\n",
      "Total price including tax: 10.70 pesos\n"
     ]
    }
   ],
   "source": [
    "#number2\n",
    "# Define the tax rate\n",
    "tax = 7\n",
    "sale_tax_rate = tax / 100  # Calculate the sale tax rate as a decimal\n",
    "# or sale_tax_rate = 0.07\n",
    "\n",
    "# Define the products and their prices in a dictionary\n",
    "product = {\n",
    "    \"patatas\": 10,\n",
    "    \"potato\": 5,\n",
    "    \"eggplant\": 6,\n",
    "    \"tomato\": 8,\n",
    "    \"onion\": 3,\n",
    "    \"carrot\": 4,\n",
    "    \"cabbage\": 2,\n",
    "    \"lettuce\": 7,\n",
    "    \"bell pepper\": 5\n",
    "}\n",
    "\n",
    "# Ask the user if they want to preorder\n",
    "prompt = input('Hi! Do you want to preorder? [y/n]: ')\n",
    "if prompt.lower() == \"y\":  # If the user wants to preorder\n",
    "    preorder = []  # List to keep track of preordered items\n",
    "    price = 0  # Variable to keep track of the total price\n",
    "    switch = 1  # Control variable for the while loop\n",
    "\n",
    "    while switch == 1:\n",
    "        # Display available products with their prices\n",
    "        print(\"Here are the available products:\")\n",
    "        for index, (item, cost) in enumerate(product.items()):\n",
    "            print(f\"[{index}] {item} - {cost} pesos\")\n",
    "\n",
    "        # Get user selection and handle invalid inputs\n",
    "        try:\n",
    "            order = int(input('Enter the number of the product you want to order: '))\n",
    "        except ValueError:\n",
    "            print(\"Invalid input. Please enter a number.\")\n",
    "            continue\n",
    "        \n",
    "        if order < 0 or order >= len(product):  # Check if the input is within the valid range\n",
    "            print(\"Invalid product number. Please choose again.\")\n",
    "            continue\n",
    "\n",
    "        # Add the chosen product to the preorder list and update the total price\n",
    "        chosen_product = list(product.keys())[order]\n",
    "        preorder.append(chosen_product)\n",
    "        price += product[chosen_product]\n",
    "\n",
    "        print(f\"{chosen_product} has been added to your cart!\")\n",
    "        \n",
    "        # Ask the user if they want to preorder another item\n",
    "        prompt2 = input(\"Do you want to preorder again? [y/n]: \")\n",
    "        if prompt2.lower() == \"y\":\n",
    "            switch = 1  # Continue the loop\n",
    "        else:\n",
    "            switch = 0  # Exit the loop\n",
    "\n",
    "    # Calculate the subtotal and total price including tax\n",
    "    subtotal = price\n",
    "    total_price = subtotal + (subtotal * sale_tax_rate)\n",
    "\n",
    "    # Display the order summary\n",
    "    print(\"\\n--- Order Summary ---\")\n",
    "    for item in preorder:\n",
    "        print(f\"- {item}\")\n",
    "\n",
    "    print(f\"\\nSubtotal: {subtotal:.2f} pesos\")\n",
    "    print(f\"Total price including tax: {total_price:.2f} pesos\")\n",
    "else:\n",
    "    # If the user does not want to preorder\n",
    "    print(\"Okay, goodbye!\")"
   ]
  },
  {
   "cell_type": "code",
   "execution_count": 7,
   "id": "e47f6d1f-edd4-432d-b5f3-258ebb2207b2",
   "metadata": {},
   "outputs": [
    {
     "name": "stdin",
     "output_type": "stream",
     "text": [
      "Enter a number between 0 to 1000:  789\n"
     ]
    },
    {
     "name": "stdout",
     "output_type": "stream",
     "text": [
      "Sum of digits: 24\n"
     ]
    }
   ],
   "source": [
    "#number3\n",
    "# the user input number between 0 and 1000\n",
    "num = int(input('Enter a number between 0 to 1000: '))\n",
    "# Initialize a variable to store the sum of digits\n",
    "sum_digit = 0\n",
    "# Loop to extract and sum each digit of the number\n",
    "while num > 0:\n",
    "    digit = num % 10  # Get the last digit of the number\n",
    "    sum_digit += digit  # Add the digit to the sum\n",
    "    num //= 10  # Remove the last digit from the number\n",
    "# Print the sum of the digits\n",
    "print(\"Sum of digits:\", sum_digit)"
   ]
  },
  {
   "cell_type": "code",
   "execution_count": 8,
   "id": "154a6d42-09e8-42ff-bf82-6edaab6940a3",
   "metadata": {},
   "outputs": [
    {
     "name": "stdin",
     "output_type": "stream",
     "text": [
      "Enter number of boys:  45\n",
      "Enter number of girls:  78\n"
     ]
    },
    {
     "name": "stdout",
     "output_type": "stream",
     "text": [
      "Total number of students: 123\n",
      "Percentage of boys: 36.59%\n",
      "Percentage of girls: 63.41%\n"
     ]
    }
   ],
   "source": [
    "#number4\n",
    "# user input the number of boys and girls\n",
    "boy = int(input('Enter number of boys: '))\n",
    "girl = int(input('Enter number of girls: '))\n",
    "\n",
    "# Calculate the total number of students\n",
    "total = boy + girl\n",
    "\n",
    "# Calculate the percentage of boys and girls\n",
    "boy_percent = (boy / total) * 100\n",
    "girl_percent = (girl / total) * 100\n",
    "\n",
    "# Display the results\n",
    "print(f\"Total number of students: {total}\")\n",
    "print(f\"Percentage of boys: {boy_percent:.2f}%\")\n",
    "print(f\"Percentage of girls: {girl_percent:.2f}%\")\n"
   ]
  },
  {
   "cell_type": "code",
   "execution_count": null,
   "id": "3782a624-bc20-4de5-afe3-43d1ea2dc638",
   "metadata": {},
   "outputs": [],
   "source": []
  }
 ],
 "metadata": {
  "kernelspec": {
   "display_name": "Python 3 (ipykernel)",
   "language": "python",
   "name": "python3"
  },
  "language_info": {
   "codemirror_mode": {
    "name": "ipython",
    "version": 3
   },
   "file_extension": ".py",
   "mimetype": "text/x-python",
   "name": "python",
   "nbconvert_exporter": "python",
   "pygments_lexer": "ipython3",
   "version": "3.11.7"
  }
 },
 "nbformat": 4,
 "nbformat_minor": 5
}
